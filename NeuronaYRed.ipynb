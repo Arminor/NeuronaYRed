{
    "cells": [
        {
            "metadata": {},
            "cell_type": "markdown",
            "source": "# Neurona artificial"
        },
        {
            "metadata": {},
            "cell_type": "markdown",
            "source": "### Este notebook simula lo que realiza una neurona artificial simple, o perceptr\u00f3n de una capa. Discriminar datos de entrada a dos conjuntos: Conjunto A y su complemento. En donde una vez entrenado el perceptr\u00f3n es capaz de a partir de nuevos datos de entrada determinar a qu\u00e9 conjunto pertenece. \n\n### El entrenamiento consiste en otorgar como entrada valores esperados, que deben superar un umbral que nosotros determinamos, y pesos iniciales que se van a ajustar hasta que la suma del producto punto de los vectores entradas[ ] y pesos[ ] sea igual o mayor que el umbral dado. \n\n## Funci\u00f3n 'productoPunto'\n\n### La programaci\u00f3n b\u00e1sica, en este ejemplo bajo el nombre de 'funcion' hace la primer operaci\u00f3n, que es la multiplicaci\u00f3n de el valor de entrada en la posici\u00f3n i por el valor del peso en la posici\u00f3n i, y adicionalmente imprime los valors para presentar el resultado e ir haciendo una especie de log en la consola de los datos que se encuentran procesando"
        },
        {
            "metadata": {},
            "cell_type": "code",
            "source": "\ndef productoPunto(entradas, pesos, suma): \n  #print(\"... ENTRADAS x PESOS = PRODUCTO\")\n  for i in range(0, len(entradas)):\n    print(\"...  \" + str(entradas[i]) + \" x \" +  str(pesos[i]) + \" = \" + str(entradas[i]*pesos[i]) + \"...\")\n    suma += entradas[i]*pesos[i]\n  print(\"La suma es: \" + str(suma))\n  return suma\n",
            "execution_count": 1,
            "outputs": []
        },
        {
            "metadata": {},
            "cell_type": "markdown",
            "source": "## Funci\u00f3n 'ajusteDePesos'\n### La programaci\u00f3n de 'ajuste' se va a encargar de realizar el entrenamiento de la neurona. Es la encargada de realizar las iteraciones, es una funci\u00f3n recursiva que dejar\u00e1 de ejecutarse hasta que los pesos se ajusten para rebasar el umbral.\n\n### Lo que hace es multiplicar la tasa de aprendizaje por la diferencia entre el umbral y la suma previamente calculada por el valor de la entrada en la posici\u00f3n i. En la funci\u00f3n se genera un nuevo vector que almacena una adici\u00f3n que se debe aplicar a cada uno de los pesos. Finalmente se suma el vector cambios[i] al vector pesos[i], y se ejecuta la funci\u00f3n recursivamente hasta que la suma haya alcanzado un valor no inferior al umbral"
        },
        {
            "metadata": {},
            "cell_type": "code",
            "source": "def ajusteDePesos(entradas, pesos, suma, umbral, cambios):\n  if suma < umbral:\n    for e in range(0, (len(entradas))):      \n      cambios[e] = tasa * (umbral - suma) * (entradas[e])\n      pesos[e] = pesos[e] + cambios[e]\n    suma = productoPunto(entradas, pesos, suma)\n    return ajusteDePesos(entradas, pesos, suma, umbral, cambios)\n  else:\n    print(\"Correcto, umbral alcanzado\")\n    print(\"Suma = \" + str(suma))\n    print(\"Umbral = \" + str(umbral))\n    print( str(suma) + \" >= \" + str(umbral))\n    return suma",
            "execution_count": 2,
            "outputs": []
        },
        {
            "metadata": {},
            "cell_type": "markdown",
            "source": "## Funci\u00f3n 'entrenar'\n### Esta funci\u00f3n \u00fanicamente manda a llamar a la funci\u00f3n ajuste, sirve como la primer extructura de control para el valor de suma"
        },
        {
            "metadata": {},
            "cell_type": "code",
            "source": "def entrenar(entradas, pesos, suma, umbral, cambios):    \n    while (suma < umbral):\n          suma = ajusteDePesos(entradas, pesos, suma, umbral, cambios)\n    return suma",
            "execution_count": 3,
            "outputs": []
        },
        {
            "metadata": {},
            "cell_type": "markdown",
            "source": "### \u00c9sta es la programaci\u00f3n de la sinapsis. Recibe entradas, pesos, un umbral, una tasa de aprendizaje, y un par\u00e1metro booleano que va a indicar si se quiere entrenar a la neurona (entrena = True) o si se quiere utilizar la neurona previamente entrenada (entrena = false)"
        },
        {
            "metadata": {},
            "cell_type": "code",
            "source": "def activar(entradas, pesos, umbral, tasa, entrena):       \n    cambios = [0,0,0]\n    suma = 0    \n    if entrena:        \n        suma = entrenar(entradas, pesos, suma, umbral, cambios)\n        return suma >= umbral\n    else:\n        if (umbral > productoPunto(entradas, pesos, suma)):\n            return False\n        else:\n            return True\n \n",
            "execution_count": 4,
            "outputs": []
        },
        {
            "metadata": {},
            "cell_type": "markdown",
            "source": "### Aqui es donde podemos modificar los valores en nuestor vectores de entrada o nuestros pesos, para observar qu\u00e9 es lo que pasa cuando disminuimos por ejemplo la tasa de aprendizaje, o modificamos los pesos."
        },
        {
            "metadata": {},
            "cell_type": "code",
            "source": "    \nentradas = [0.1,0.5,0.5]\npesos = [2.0, 2.0, 2.0]\numbral = 13\ntasa = 0.01\n",
            "execution_count": 5,
            "outputs": []
        },
        {
            "metadata": {},
            "cell_type": "markdown",
            "source": "### Lo que va a suceder a continuaci\u00f3n es que vamos a entrenar a nuestra neurona, pasando el par\u00e1metro 'Entrena' como = True"
        },
        {
            "metadata": {},
            "cell_type": "code",
            "source": "print(activar(entradas, pesos, umbral, tasa, True))\n\n",
            "execution_count": 6,
            "outputs": [
                {
                    "output_type": "stream",
                    "text": "...  0.1 x 2.013 = 0.2013...\n...  0.5 x 2.065 = 1.0325...\n...  0.5 x 2.065 = 1.0325...\nLa suma es: 2.2663\n...  0.1 x 2.0237336999999997 = 0.20237337...\n...  0.5 x 2.1186685 = 1.05933425...\n...  0.5 x 2.1186685 = 1.05933425...\nLa suma es: 4.58734187\n...  0.1 x 2.03214635813 = 0.203214635813...\n...  0.5 x 2.16073179065 = 1.080365895325...\n...  0.5 x 2.16073179065 = 1.080365895325...\nLa suma es: 6.951288296463\n...  0.1 x 2.0381950698335367 = 0.2038195069833537...\n...  0.5 x 2.190975349167685 = 1.0954876745838424...\n...  0.5 x 2.190975349167685 = 1.0954876745838424...\nLa suma es: 9.346083152614039\n...  0.1 x 2.0418489866809226 = 0.20418489866809228...\n...  0.5 x 2.2092449334046145 = 1.1046224667023072...\n...  0.5 x 2.2092449334046145 = 1.1046224667023072...\nLa suma es: 11.759512984686747\n...  0.1 x 2.0430894736962357 = 0.20430894736962357...\n...  0.5 x 2.215447368481181 = 1.1077236842405904...\n...  0.5 x 2.215447368481181 = 1.1077236842405904...\nLa suma es: 14.179269300537552\nCorrecto, umbral alcanzado\nSuma = 14.179269300537552\nUmbral = 13\n14.179269300537552 >= 13\nTrue\n",
                    "name": "stdout"
                }
            ]
        },
        {
            "metadata": {},
            "cell_type": "markdown",
            "source": "### Y una vez entrenada la neurona ahora s\u00ed vamos a hacer uso de ella para verificar si efectivamente aprendi\u00f3. Modificamos nuestras entradas."
        },
        {
            "metadata": {},
            "cell_type": "code",
            "source": "entradas = [2.7,3.9,4.2]\nprint(activar(entradas, pesos, umbral, tasa, False))\n",
            "execution_count": 7,
            "outputs": [
                {
                    "output_type": "stream",
                    "text": "...  2.7 x 2.0430894736962357 = 5.516341578979837...\n...  3.9 x 2.215447368481181 = 8.640244737076605...\n...  4.2 x 2.215447368481181 = 9.30487894762096...\nLa suma es: 23.461465263677404\nTrue\n",
                    "name": "stdout"
                }
            ]
        },
        {
            "metadata": {},
            "cell_type": "markdown",
            "source": "### Si regresa 'False' lo que quiere decir que discrima el nuevo arreglo de entradas pasandolo al conjunto de valores por debajo del umbral. Caso contrario, lo que obtenemos es 'True', s\u00ed se super\u00f3 el umbral y nuestra salida es parte del conjunto de elementos con un valor por encima del umbral\n\n\n\n\n\n"
        },
        {
            "metadata": {},
            "cell_type": "markdown",
            "source": "# Red Neuronal"
        },
        {
            "metadata": {},
            "cell_type": "markdown",
            "source": "### Ahora vamos a crear una relaci\u00f3n de neuronas, un modelo reutilizable, estructurado y potente. Para esto necesitamos crear una clase que nos permitir\u00e1 agrupar diferentes atributos"
        },
        {
            "metadata": {},
            "cell_type": "code",
            "source": "class Neurona:\n    \n    def __init__(self, id, vectores, aristas, capa, tasaA, umbral):\n        self.id = id\n        self.entradas = []\n        self.pesos = []        \n        for tupla in vectores:\n            self.entradas.append(tupla[0])\n            self.pesos.append(tupla[1])\n        self.aristas = aristas\n        self.capa = capa\n        self.tasaA = tasaA #Tasa de aprendizaje\n        self.umbral = umbral\n        \n    \n        ",
            "execution_count": 8,
            "outputs": []
        },
        {
            "metadata": {},
            "cell_type": "markdown",
            "source": "### Para definir una red neuronal tenemos que definir entonces un grafo, compuesto de vertices(neuronas) y aristas, esta red de neuronas servir\u00e1 para el desarrollo de las funciones necesarias para su funcionamiento, al final las funciones podr\u00e1n ser utilizadas para trabajar con cualquier arreglo de neuronas, lo cual es justo la intenci\u00f3n"
        },
        {
            "metadata": {},
            "cell_type": "code",
            "source": "a = Neurona('a', [(5, 0.5), (3, 0.5), (8, 5)], ['A', 'B'], 1, 0.6, 17)\nb = Neurona('b', [(6, 0.7), (7, 0.2), (0, 0.1)],['C', 'D'] , 1, 0.4, 14)\nc = Neurona('c', [(0, 0.4)],['A','E'], 2, 0.4, 14)\nd = Neurona('d', [(0, 0.3), (0, 0.3)],['B', 'C','F', 'G'] , 2, 0.4, 14)\ne = Neurona('e', [(0, 0.7)],['D', 'H'] , 2 , 0.4, 14)\nf = Neurona('f', [(0, 0.4), (0, 0.5)],['E', 'F', 'I'], 3 , 0.4, 14)\ng = Neurona('g', [(0, 0.4), (0, 0.6)],['G', 'H', 'J'] , 3 , 0.4, 14)\nh = Neurona('h', [(0, 0.5), (0, 0.3)],['I', 'J'] , 4, 0.4, 14)\n\nneuronas = [a,b,c,d,e,f,g,h]\nfor n in neuronas:\n    print(n.id, n.entradas, n.pesos)",
            "execution_count": 9,
            "outputs": [
                {
                    "output_type": "stream",
                    "text": "a [5, 3, 8] [0.5, 0.5, 5]\nb [6, 7, 0] [0.7, 0.2, 0.1]\nc [0] [0.4]\nd [0, 0] [0.3, 0.3]\ne [0] [0.7]\nf [0, 0] [0.4, 0.5]\ng [0, 0] [0.4, 0.6]\nh [0, 0] [0.5, 0.3]\n",
                    "name": "stdout"
                }
            ]
        },
        {
            "metadata": {},
            "cell_type": "markdown",
            "source": "## Sinapsis. \n### Ahora si pasamos a la comunicaci\u00f3n entre neuronas, es importante describir lo que realizar\u00e1 esta funci\u00f3n:\nEn primer lugar, el arreglo de neuronas necesita un orden espec\u00edfico, necesita ir indexado por capas, la capa que le corresponda en el dise\u00f1o de la red neuronal, este modelo s\u00f3lo funciona con redes bajo una arquitectura de Feed Forward y posiblemente Deep Feed Forward (red neuronal pre-alimentada, perceptr\u00f3n multicapa). \n\nLa funci\u00f3n sinapsisRed tiene un par\u00e1metro para entrenar la red, que funciona con las funciones definidas con aterioridad, es importante entonces primero entrenar, hacer que nuestras neuronas 'aprendan' para despu\u00e9s hacer uso de esta.\n\nDurante el entrenamiento de la red, cada neurona se entrena, una vez alcanzado el umbral establecido y con los pesos ajustados, el valor del producto punto entre sus vectores entradas[ ] y pesos[ ] pasa a ser entrada de las neuronas con las que est\u00e1 relacionada, a las que est\u00e1 dirigida. Esto entra en un bucle hasta llegar a la \u00faltima neurona.\n\n"
        },
        {
            "metadata": {},
            "cell_type": "code",
            "source": "def sinapsisRed(neuronas, entrena):\n    capas = {1, 2}\n    anteriores = [] # Vamos a verificar las relaciones(aristas) comparando las aristas de las neuronas de capas inferiores para encontrar la igualdad\n    for neurona in neuronas:        \n        print(\"\\nNodo:\", neurona.id)\n        if neurona.capa == 1:\n            activar(neurona.entradas, neurona.pesos, neurona.umbral, neurona.tasaA, entrena)\n            anteriores.append(neurona)\n        else:\n            for anterior in anteriores: # Hacemos la b\u00fasqueda de Arista, en donde sea igual pasar\u00e1 el valor de la neurona a un arreglo de entradas \n                for arista in anterior.aristas:\n                    if arista in neurona.aristas:\n                        neurona.entradas = []\n                        print(\"\\nRelacion\", anterior.id , \" -> \" , neurona.id)\n                        neurona.entradas.append(productoPunto(anterior.entradas, anterior.pesos, 0)) # Arreglo de entradas de la neurona relacionada\n            activar(neurona.entradas, neurona.pesos, neurona.umbral, neurona.tasaA, entrena)\n            anteriores.append(neurona)\n                             \n\nsinapsisRed(neuronas, True)    ",
            "execution_count": 10,
            "outputs": [
                {
                    "output_type": "stream",
                    "text": "\nNodo: a\n...  5 x 1.35 = 6.75...\n...  3 x 1.01 = 3.0300000000000002...\n...  8 x 6.36 = 50.88...\nLa suma es: 60.660000000000004\nCorrecto, umbral alcanzado\nSuma = 60.660000000000004\nUmbral = 17\n60.660000000000004 >= 17\n\nNodo: b\n...  6 x 1.54 = 9.24...\n...  7 x 1.1800000000000002 = 8.260000000000002...\n...  0 x 0.1 = 0.0...\nLa suma es: 17.5\nCorrecto, umbral alcanzado\nSuma = 17.5\nUmbral = 14\n17.5 >= 14\n\nNodo: c\n\nRelacion a  ->  c\n...  5 x 1.35 = 6.75...\n...  3 x 1.01 = 3.0300000000000002...\n...  8 x 6.36 = 50.88...\nLa suma es: 60.660000000000004\n...  60.660000000000004 x 8.892400000000002 = 539.4129840000002...\nLa suma es: 539.4129840000002\nCorrecto, umbral alcanzado\nSuma = 539.4129840000002\nUmbral = 14\n539.4129840000002 >= 14\n\nNodo: d\n\nRelacion a  ->  d\n...  5 x 1.35 = 6.75...\n...  3 x 1.01 = 3.0300000000000002...\n...  8 x 6.36 = 50.88...\nLa suma es: 60.660000000000004\n\nRelacion b  ->  d\n...  6 x 1.54 = 9.24...\n...  7 x 1.1800000000000002 = 8.260000000000002...\n...  0 x 0.1 = 0.0...\nLa suma es: 17.5\n...  17.5 x 2.75 = 48.125...\nLa suma es: 48.125\nCorrecto, umbral alcanzado\nSuma = 48.125\nUmbral = 14\n48.125 >= 14\n\nNodo: e\n\nRelacion b  ->  e\n...  6 x 1.54 = 9.24...\n...  7 x 1.1800000000000002 = 8.260000000000002...\n...  0 x 0.1 = 0.0...\nLa suma es: 17.5\n...  17.5 x 3.1500000000000004 = 55.12500000000001...\nLa suma es: 55.12500000000001\nCorrecto, umbral alcanzado\nSuma = 55.12500000000001\nUmbral = 14\n55.12500000000001 >= 14\n\nNodo: f\n\nRelacion c  ->  f\n...  60.660000000000004 x 8.892400000000002 = 539.4129840000002...\nLa suma es: 539.4129840000002\n\nRelacion d  ->  f\n...  17.5 x 2.75 = 48.125...\nLa suma es: 48.125\n...  48.125 x 7.137500000000001 = 343.49218750000006...\nLa suma es: 343.49218750000006\nCorrecto, umbral alcanzado\nSuma = 343.49218750000006\nUmbral = 14\n343.49218750000006 >= 14\n\nNodo: g\n\nRelacion d  ->  g\n...  17.5 x 2.75 = 48.125...\nLa suma es: 48.125\n\nRelacion e  ->  g\n...  17.5 x 3.1500000000000004 = 55.12500000000001...\nLa suma es: 55.12500000000001\n...  55.12500000000001 x 8.117500000000001 = 447.4771875000001...\nLa suma es: 447.4771875000001\nCorrecto, umbral alcanzado\nSuma = 447.4771875000001\nUmbral = 14\n447.4771875000001 >= 14\n\nNodo: h\n\nRelacion f  ->  h\n...  48.125 x 7.137500000000001 = 343.49218750000006...\nLa suma es: 343.49218750000006\n\nRelacion g  ->  h\n...  55.12500000000001 x 8.117500000000001 = 447.4771875000001...\nLa suma es: 447.4771875000001\n...  447.4771875000001 x 63.146806250000026 = 28256.75526035744...\nLa suma es: 28256.75526035744\nCorrecto, umbral alcanzado\nSuma = 28256.75526035744\nUmbral = 14\n28256.75526035744 >= 14\n",
                    "name": "stdout"
                }
            ]
        },
        {
            "metadata": {},
            "cell_type": "code",
            "source": "",
            "execution_count": null,
            "outputs": []
        },
        {
            "metadata": {},
            "cell_type": "code",
            "source": "",
            "execution_count": null,
            "outputs": []
        }
    ],
    "metadata": {
        "kernelspec": {
            "name": "python3",
            "display_name": "Python 3.6",
            "language": "python"
        },
        "language_info": {
            "name": "python",
            "version": "3.6.9",
            "mimetype": "text/x-python",
            "codemirror_mode": {
                "name": "ipython",
                "version": 3
            },
            "pygments_lexer": "ipython3",
            "nbconvert_exporter": "python",
            "file_extension": ".py"
        }
    },
    "nbformat": 4,
    "nbformat_minor": 4
}